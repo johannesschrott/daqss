{
 "cells": [
  {
   "metadata": {},
   "cell_type": "markdown",
   "source": "# Demo 3: Use Information from DaQSS",
   "id": "a024b7bca8cb76"
  },
  {
   "metadata": {},
   "cell_type": "markdown",
   "source": "Under the consideration of two possible use cases, this third demonstration shows how DQ results and their metadata stored in DaQSS can be utilized.",
   "id": "1a770f35c6af027f"
  },
  {
   "metadata": {},
   "cell_type": "markdown",
   "source": "1. Import required Python packages:\n",
   "id": "2f544c95fe8c067a"
  },
  {
   "metadata": {
    "ExecuteTime": {
     "end_time": "2024-12-02T13:57:43.470105Z",
     "start_time": "2024-12-02T13:57:43.434275Z"
    }
   },
   "cell_type": "code",
   "source": [
    "import os\n",
    "\n",
    "os.environ[\"TQDM_DISABLE\"] = \"1\"  # Disable all progress bars, to retain a clear output\n",
    "\n",
    "from cobadq import *  # import the Python package for the constraint-based aggregation\n",
    "from daqss import *  # for accessing the database part of DaQSS\n",
    "from sqlalchemy import text  # Used to directly query the database\n",
    "\n",
    "import pandas\n",
    "# for the representation of data and the computation of DQ measurement results "
   ],
   "id": "cd54d60a5d332430",
   "outputs": [],
   "execution_count": 6
  },
  {
   "metadata": {
    "ExecuteTime": {
     "end_time": "2024-12-02T13:57:56.917232Z",
     "start_time": "2024-12-02T13:57:56.886016Z"
    }
   },
   "cell_type": "code",
   "source": "d = DaQSS()  # Create a DaQSS object",
   "id": "66ae26f6c4a8382c",
   "outputs": [],
   "execution_count": 7
  },
  {
   "metadata": {},
   "cell_type": "markdown",
   "source": "## Analysis of DQ Results",
   "id": "184d3370d07fd7d7"
  },
  {
   "metadata": {},
   "cell_type": "markdown",
   "source": [
    "In this use case, the following question is answered:\n",
    "\n",
    "Which records of the fake customer data have an DQ measurement result value less than 0.5 for the metric \"arith_mean_completeness_per_row\" (cf. [the first demonstration](../demo1))?\n",
    "\n",
    "By directly using an [SQLAlchemy Connection](https://docs.sqlalchemy.org/en/20/core/connections.html#sqlalchemy.engine.Connection) arbitrary queries can be executed on the database of DaQSS (cf.  [the documentation of the schema](https://johannes.schrott.onl/daqss/database_docs))."
   ],
   "id": "7aff3738bfe60fc4"
  },
  {
   "metadata": {
    "ExecuteTime": {
     "end_time": "2024-12-02T10:38:12.669805Z",
     "start_time": "2024-12-02T10:38:12.585108Z"
    }
   },
   "cell_type": "code",
   "source": [
    "fake_customer_global_identifier: str = \"https://johannes.schrott.onl/fake_customer_data/fake_customer_data.csv\"\n",
    "metric_name = \"arith_mean_completeness_per_row\"\n",
    "\n",
    "with d.connect() as connection:\n",
    "    result: list = list(connection.execute(\n",
    "        text(\"SELECT data_element_local_identifier, result_value FROM data_element, dq_result \" +\n",
    "             f\"WHERE dq_result.calculated_by_dq_metric = :metric \" +\n",
    "             \"AND dq_result.computed_on_data_element_global_id = data_element.data_element_global_identifier \" +\n",
    "             f\"AND data_element.parent_data_element_global_identifier = :id \" +\n",
    "             \"AND dq_result.result_value < 0.5\"), {\"metric\": metric_name, \"id\": fake_customer_global_identifier}\n",
    "    )\n",
    "    )\n",
    "    result.sort(key=lambda row: row[1])\n",
    "    print(result[:5])  # For demonstration purpose, return the 5 smallest metric results"
   ],
   "id": "81617a14a09a5f2e",
   "outputs": [
    {
     "name": "stdout",
     "output_type": "stream",
     "text": [
      "[('25221.0', Decimal('0.2857142857142857')), ('78828.0', Decimal('0.2857142857142857')), ('73946.0', Decimal('0.2857142857142857')), ('39076.0', Decimal('0.2857142857142857')), ('76087.0', Decimal('0.2857142857142857'))]\n"
     ]
    }
   ],
   "execution_count": 3
  },
  {
   "metadata": {},
   "cell_type": "markdown",
   "source": [
    "## Reuse of Definitions\n",
    "This use case shows through a small toy example, how DQ metrics can be reused:"
   ],
   "id": "b58eb491544ef5bc"
  },
  {
   "metadata": {
    "ExecuteTime": {
     "end_time": "2024-12-02T14:02:42.964222Z",
     "start_time": "2024-12-02T14:02:42.863027Z"
    }
   },
   "cell_type": "code",
   "source": [
    "metric_name = \"arith_mean_completeness_per_row\"\n",
    "\n",
    "metric = d.retrieve_dq_metric_implementation_by_name(\"arith_mean_completeness_per_row\")\n",
    "\n",
    "demo_dataframe = pandas.DataFrame({\"index\": [1], \"col1\": [None], \"col2\": [1]})\n",
    "demo_dataframe = demo_dataframe.set_index(\"index\")\n",
    "demo_dataframe.head()"
   ],
   "id": "e6a11483e57a1600",
   "outputs": [
    {
     "data": {
      "text/plain": [
       "       col1  col2\n",
       "index            \n",
       "1      None     1"
      ],
      "text/html": [
       "<div>\n",
       "<style scoped>\n",
       "    .dataframe tbody tr th:only-of-type {\n",
       "        vertical-align: middle;\n",
       "    }\n",
       "\n",
       "    .dataframe tbody tr th {\n",
       "        vertical-align: top;\n",
       "    }\n",
       "\n",
       "    .dataframe thead th {\n",
       "        text-align: right;\n",
       "    }\n",
       "</style>\n",
       "<table border=\"1\" class=\"dataframe\">\n",
       "  <thead>\n",
       "    <tr style=\"text-align: right;\">\n",
       "      <th></th>\n",
       "      <th>col1</th>\n",
       "      <th>col2</th>\n",
       "    </tr>\n",
       "    <tr>\n",
       "      <th>index</th>\n",
       "      <th></th>\n",
       "      <th></th>\n",
       "    </tr>\n",
       "  </thead>\n",
       "  <tbody>\n",
       "    <tr>\n",
       "      <th>1</th>\n",
       "      <td>None</td>\n",
       "      <td>1</td>\n",
       "    </tr>\n",
       "  </tbody>\n",
       "</table>\n",
       "</div>"
      ]
     },
     "execution_count": 8,
     "metadata": {},
     "output_type": "execute_result"
    }
   ],
   "execution_count": 8
  },
  {
   "metadata": {
    "ExecuteTime": {
     "end_time": "2024-12-02T14:03:03.803501Z",
     "start_time": "2024-12-02T14:03:03.791543Z"
    }
   },
   "cell_type": "code",
   "source": [
    "res = demo_dataframe.apply(metric, axis=1)\n",
    "res.head()"
   ],
   "id": "84d8a2988650963d",
   "outputs": [
    {
     "data": {
      "text/plain": [
       "index\n",
       "1    0.5\n",
       "dtype: float64"
      ]
     },
     "execution_count": 9,
     "metadata": {},
     "output_type": "execute_result"
    }
   ],
   "execution_count": 9
  },
  {
   "metadata": {},
   "cell_type": "markdown",
   "source": "",
   "id": "8dcc7a4cd5532df"
  }
 ],
 "metadata": {
  "kernelspec": {
   "display_name": "Python 3",
   "language": "python",
   "name": "python3"
  },
  "language_info": {
   "codemirror_mode": {
    "name": "ipython",
    "version": 2
   },
   "file_extension": ".py",
   "mimetype": "text/x-python",
   "name": "python",
   "nbconvert_exporter": "python",
   "pygments_lexer": "ipython2",
   "version": "2.7.6"
  }
 },
 "nbformat": 4,
 "nbformat_minor": 5
}
