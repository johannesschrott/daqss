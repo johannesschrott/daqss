{
 "cells": [
  {
   "cell_type": "markdown",
   "id": "75b12b9d8e14ec7",
   "metadata": {},
   "source": [
    "# Demo 1: Computation and Storing of DQ Measurement Results"
   ]
  },
  {
   "cell_type": "markdown",
   "id": "47d086180a491554",
   "metadata": {},
   "source": [
    "This first demonstration shows how DQ measurement results and the metric used for their computation can be stored using DaQSS.\n",
    "As example in this demonstration, the completeness per record of a CSV file of  [fake customer data](https://github.com/johannesschrott/fake_customer_data) with missing values is used."
   ]
  },
  {
   "cell_type": "markdown",
   "id": "d258d9830f0576d7",
   "metadata": {},
   "source": " 1. Import required Python packages:"
  },
  {
   "cell_type": "code",
   "id": "42ca1258b90859e3",
   "metadata": {
    "ExecuteTime": {
     "end_time": "2024-12-02T13:26:36.962635Z",
     "start_time": "2024-12-02T13:26:36.957196Z"
    }
   },
   "source": [
    "from daqss import *  # for accessing the database part of DaQSS\n",
    "\n",
    "import pandas\n",
    "# for the representation of data and the computation of DQ measurement results "
   ],
   "outputs": [],
   "execution_count": 10
  },
  {
   "cell_type": "markdown",
   "id": "4b32b0fbb3d1a951",
   "metadata": {},
   "source": [
    "2. Load data from a CSV file into a Pandas DataFrame:"
   ]
  },
  {
   "cell_type": "code",
   "id": "c3c7df6c272e2793",
   "metadata": {
    "ExecuteTime": {
     "end_time": "2024-12-02T13:26:47.007994Z",
     "start_time": "2024-12-02T13:26:46.930971Z"
    }
   },
   "source": [
    "data: pandas.DataFrame = pandas.read_csv(\"../demo_data/fake_customer_data.csv\")\n",
    "data = data.set_index(\"CustomerID\", drop=False)\n",
    "# Create a DataFrame holding the data from the CSV file, set its index, \n",
    "# and retain its index as part of the data.\n",
    "\n",
    "data_global_identifier: str = \"https://johannes.schrott.onl/fake_customer_data/fake_customer_data.csv\"\n",
    "data_local_identifier: str = \"fake_customer_data.csv\"\n",
    "# Identifier that uniquely identifies the CSV file within DaQSS.\n",
    "# The global_identifier may have use other protocols and schemes than used above.\n",
    "\n",
    "# Show some records of the data:\n",
    "data.head(5)"
   ],
   "outputs": [
    {
     "data": {
      "text/plain": [
       "            CustomerID  FirstName LastName  AddressID  \\\n",
       "CustomerID                                              \n",
       "77700.0        77700.0      Susan    Ellis    64811.0   \n",
       "86928.0        86928.0   Caroline     Barr     7716.0   \n",
       "16019.0        16019.0  Katherine     Hess    40569.0   \n",
       "30163.0        30163.0       Gina    Gross    33463.0   \n",
       "85773.0        85773.0     Albert     Hall    66320.0   \n",
       "\n",
       "                       EmailAddress                  Phone  \\\n",
       "CustomerID                                                   \n",
       "77700.0     yorkvanessa@example.org  001-301-718-7221x9375   \n",
       "86928.0                         NaN     (363)436-7243x6386   \n",
       "16019.0                         NaN     636.605.6222x71499   \n",
       "30163.0           gluna@example.org                    NaN   \n",
       "85773.0          john03@example.net             5863061645   \n",
       "\n",
       "                           Mobile  \n",
       "CustomerID                         \n",
       "77700.0                       NaN  \n",
       "86928.0                       NaN  \n",
       "16019.0                       NaN  \n",
       "30163.0        (971)505-3898x2674  \n",
       "85773.0     001-377-640-5676x2420  "
      ],
      "text/html": [
       "<div>\n",
       "<style scoped>\n",
       "    .dataframe tbody tr th:only-of-type {\n",
       "        vertical-align: middle;\n",
       "    }\n",
       "\n",
       "    .dataframe tbody tr th {\n",
       "        vertical-align: top;\n",
       "    }\n",
       "\n",
       "    .dataframe thead th {\n",
       "        text-align: right;\n",
       "    }\n",
       "</style>\n",
       "<table border=\"1\" class=\"dataframe\">\n",
       "  <thead>\n",
       "    <tr style=\"text-align: right;\">\n",
       "      <th></th>\n",
       "      <th>CustomerID</th>\n",
       "      <th>FirstName</th>\n",
       "      <th>LastName</th>\n",
       "      <th>AddressID</th>\n",
       "      <th>EmailAddress</th>\n",
       "      <th>Phone</th>\n",
       "      <th>Mobile</th>\n",
       "    </tr>\n",
       "    <tr>\n",
       "      <th>CustomerID</th>\n",
       "      <th></th>\n",
       "      <th></th>\n",
       "      <th></th>\n",
       "      <th></th>\n",
       "      <th></th>\n",
       "      <th></th>\n",
       "      <th></th>\n",
       "    </tr>\n",
       "  </thead>\n",
       "  <tbody>\n",
       "    <tr>\n",
       "      <th>77700.0</th>\n",
       "      <td>77700.0</td>\n",
       "      <td>Susan</td>\n",
       "      <td>Ellis</td>\n",
       "      <td>64811.0</td>\n",
       "      <td>yorkvanessa@example.org</td>\n",
       "      <td>001-301-718-7221x9375</td>\n",
       "      <td>NaN</td>\n",
       "    </tr>\n",
       "    <tr>\n",
       "      <th>86928.0</th>\n",
       "      <td>86928.0</td>\n",
       "      <td>Caroline</td>\n",
       "      <td>Barr</td>\n",
       "      <td>7716.0</td>\n",
       "      <td>NaN</td>\n",
       "      <td>(363)436-7243x6386</td>\n",
       "      <td>NaN</td>\n",
       "    </tr>\n",
       "    <tr>\n",
       "      <th>16019.0</th>\n",
       "      <td>16019.0</td>\n",
       "      <td>Katherine</td>\n",
       "      <td>Hess</td>\n",
       "      <td>40569.0</td>\n",
       "      <td>NaN</td>\n",
       "      <td>636.605.6222x71499</td>\n",
       "      <td>NaN</td>\n",
       "    </tr>\n",
       "    <tr>\n",
       "      <th>30163.0</th>\n",
       "      <td>30163.0</td>\n",
       "      <td>Gina</td>\n",
       "      <td>Gross</td>\n",
       "      <td>33463.0</td>\n",
       "      <td>gluna@example.org</td>\n",
       "      <td>NaN</td>\n",
       "      <td>(971)505-3898x2674</td>\n",
       "    </tr>\n",
       "    <tr>\n",
       "      <th>85773.0</th>\n",
       "      <td>85773.0</td>\n",
       "      <td>Albert</td>\n",
       "      <td>Hall</td>\n",
       "      <td>66320.0</td>\n",
       "      <td>john03@example.net</td>\n",
       "      <td>5863061645</td>\n",
       "      <td>001-377-640-5676x2420</td>\n",
       "    </tr>\n",
       "  </tbody>\n",
       "</table>\n",
       "</div>"
      ]
     },
     "execution_count": 11,
     "metadata": {},
     "output_type": "execute_result"
    }
   ],
   "execution_count": 11
  },
  {
   "cell_type": "markdown",
   "id": "75f9ab5cc668d58",
   "metadata": {},
   "source": "3. Define a DQ metric:"
  },
  {
   "cell_type": "code",
   "id": "d2036968da055969",
   "metadata": {
    "ExecuteTime": {
     "end_time": "2024-12-02T13:27:49.825228Z",
     "start_time": "2024-12-02T13:27:49.819945Z"
    }
   },
   "source": [
    "def arith_mean_completeness_per_row(row) -> int:\n",
    "    \"\"\"Computes the unweighted arithmetic mean of the availability of values in a row.\n",
    "     The value 1 means a row is completely available, where 0 declares that there is no value in the row.\"\"\"\n",
    "    return 1 - row.isna().mean()\n"
   ],
   "outputs": [],
   "execution_count": 12
  },
  {
   "cell_type": "markdown",
   "id": "670a58191e45ddb8",
   "metadata": {},
   "source": "4. Apply the DQ metric to the data:"
  },
  {
   "cell_type": "code",
   "id": "8f2d61df7a4fefc3",
   "metadata": {
    "ExecuteTime": {
     "end_time": "2024-12-02T13:27:59.118507Z",
     "start_time": "2024-12-02T13:27:56.686856Z"
    }
   },
   "source": [
    "dq_measurement_results: pandas.Series = data.apply(arith_mean_completeness_per_row, axis=1)  # apply the DQ metric\n",
    "\n",
    "# Show some records of the DQ measurement results:\n",
    "dq_measurement_results.head(5)"
   ],
   "outputs": [
    {
     "data": {
      "text/plain": [
       "CustomerID\n",
       "77700.0    0.857143\n",
       "86928.0    0.714286\n",
       "16019.0    0.714286\n",
       "30163.0    0.857143\n",
       "85773.0    1.000000\n",
       "dtype: float64"
      ]
     },
     "execution_count": 13,
     "metadata": {},
     "output_type": "execute_result"
    }
   ],
   "execution_count": 13
  },
  {
   "cell_type": "markdown",
   "id": "909e77c821e616c0",
   "metadata": {},
   "source": "5. Store the DQ metric and the computed results into the database of DaQSS:"
  },
  {
   "cell_type": "code",
   "id": "438db70afbbfe05e",
   "metadata": {
    "ExecuteTime": {
     "end_time": "2024-12-02T13:35:30.133431Z",
     "start_time": "2024-12-02T13:35:30.114092Z"
    }
   },
   "source": [
    "d = DaQSS()  # create a new instance of the DaQSS class to provide easy access to the database"
   ],
   "outputs": [],
   "execution_count": 14
  },
  {
   "cell_type": "code",
   "id": "4098f9f74586c71",
   "metadata": {
    "ExecuteTime": {
     "end_time": "2024-12-02T13:39:03.356621Z",
     "start_time": "2024-12-02T13:39:03.328376Z"
    }
   },
   "source": [
    "# Create a new DQ dimension for the completeness metric,\n",
    "# in case it has not been created already.\n",
    "# If it already exists, nothing happens.\n",
    "d.store_dq_dimension(\"Completeness\")\n",
    "\n",
    "# Store the metric. If it already exists nothing happens. \n",
    "# If it is associated to a DQ dimension that does not exist,\n",
    "# the metric will still be created, but that dimension association is skipped.\n",
    "d.store_dq_metric(arith_mean_completeness_per_row, [\"Completeness\"], ROW)"
   ],
   "outputs": [
    {
     "name": "stderr",
     "output_type": "stream",
     "text": [
      "WARNING:root:A DQ dimension with the name \"Completeness\" cannot be created, since a dimension with the same name already exists.\n",
      "WARNING:root:A DQ metric with the name \"arith_mean_completeness_per_row\" cannot be stored, since a metric with the same name already exists.\n",
      "WARNING:root:The DQ metric with the name \"arith_mean_completeness_per_row\" cannot be associated with the DQ dimension \"Completeness\", since\n",
      " - this association is already in place, or \n",
      " the dimension \"Completeness\" does not exist.\n"
     ]
    }
   ],
   "execution_count": 16
  },
  {
   "metadata": {
    "ExecuteTime": {
     "end_time": "2024-12-02T13:41:53.455194Z",
     "start_time": "2024-12-02T13:41:53.438840Z"
    }
   },
   "cell_type": "code",
   "source": [
    "# DaQSS requires that all parent data elements of the data elements, of which the DQ is measured,\n",
    "# need to be also represented in the system\n",
    "d.store_data_element(data_global_identifier, data_local_identifier, TABLE)"
   ],
   "id": "7e0661bddb75e463",
   "outputs": [],
   "execution_count": 17
  },
  {
   "metadata": {
    "ExecuteTime": {
     "end_time": "2024-12-02T13:43:17.628954Z",
     "start_time": "2024-12-02T13:42:19.049544Z"
    }
   },
   "cell_type": "code",
   "source": [
    "# Store th DQ measurement result computed for each row\n",
    "d.store_dq_measurement_results_from_series(arith_mean_completeness_per_row, ROW, data_global_identifier,\n",
    "                                           dq_measurement_results)"
   ],
   "id": "958964d6af50b46e",
   "outputs": [
    {
     "name": "stderr",
     "output_type": "stream",
     "text": [
      "WARNING:root:At least one DQ measurement result cannot be stored, since for at least one result value\n",
      " - no data element global_identifier was provided, or\n",
      " - the DQ metric computed two results for the same data element, or\n",
      " - the provided parent data element is not represented in DaQSS\n"
     ]
    }
   ],
   "execution_count": 18
  },
  {
   "metadata": {},
   "cell_type": "markdown",
   "source": "The warning raised when storing DQ result values from `fake_customer_data.csv` is acceptable, since the CSV file contains rows that miss an identifier.",
   "id": "d0c9b24903fe317"
  }
 ],
 "metadata": {
  "kernelspec": {
   "display_name": "Python 3",
   "language": "python",
   "name": "python3"
  },
  "language_info": {
   "codemirror_mode": {
    "name": "ipython",
    "version": 2
   },
   "file_extension": ".py",
   "mimetype": "text/x-python",
   "name": "python",
   "nbconvert_exporter": "python",
   "pygments_lexer": "ipython2",
   "version": "2.7.6"
  }
 },
 "nbformat": 4,
 "nbformat_minor": 5
}
