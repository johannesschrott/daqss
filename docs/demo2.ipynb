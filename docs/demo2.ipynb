{
 "cells": [
  {
   "metadata": {},
   "cell_type": "markdown",
   "source": "# Demo 2: Constraint-based Aggregation and Storing of Results and Metadata\n",
   "id": "b5d33680a0f75d84"
  },
  {
   "metadata": {},
   "cell_type": "markdown",
   "source": [
    "This second demonstration shows how constraint-based aggregations can be performed and including the storing of their results in DaQSS.\n",
    "As example in this demonstration, the database containing product information, as described in the [introduction of the demonstrations](../demo), is used."
   ],
   "id": "76cc998f036158b5"
  },
  {
   "metadata": {},
   "cell_type": "markdown",
   "source": "1. Import required Python packages:\n",
   "id": "5aee660546f72ae7"
  },
  {
   "metadata": {
    "ExecuteTime": {
     "end_time": "2024-12-02T13:54:20.292521Z",
     "start_time": "2024-12-02T13:54:20.284148Z"
    }
   },
   "cell_type": "code",
   "source": [
    "import os\n",
    "\n",
    "os.environ[\"TQDM_DISABLE\"] = \"1\"  # Disable all progress bars, to retain a clear output\n",
    "\n",
    "from cobadq import *  # import the Python package for the constraint-based aggregation\n",
    "from daqss import *  # for accessing the database part of DaQSS\n",
    "\n",
    "import pandas\n",
    "# for the representation of data and the computation of DQ measurement results "
   ],
   "id": "30294bfb22d910d8",
   "outputs": [],
   "execution_count": 10
  },
  {
   "metadata": {},
   "cell_type": "markdown",
   "source": "2. Connect to the database tables and create their representations in DaQSS:",
   "id": "8f6f18708fb724aa"
  },
  {
   "metadata": {
    "ExecuteTime": {
     "end_time": "2024-12-02T13:54:37.625790Z",
     "start_time": "2024-12-02T13:54:21.950493Z"
    }
   },
   "cell_type": "code",
   "source": [
    "db_connection: str = \"sqlite:///../demo_data/product_information.sqlite\"\n",
    "\n",
    "canada = DataSource.from_dataframe(pandas.read_sql_table(\"ca_products\", db_connection, index_col=\"asin\").head(100),\n",
    "                                   \"ca_products\")\n",
    "india = DataSource.from_dataframe(pandas.read_sql_table(\"in_products\", db_connection, index_col=\"asin\").head(100),\n",
    "                                  \"in_products\")\n",
    "usa = DataSource.from_dataframe(pandas.read_sql_table(\"us_products\", db_connection, index_col=\"asin\").head(100),\n",
    "                                \"us_products\")\n"
   ],
   "id": "5c46c7addc4ede96",
   "outputs": [],
   "execution_count": 11
  },
  {
   "metadata": {
    "ExecuteTime": {
     "end_time": "2024-12-02T13:55:26.709227Z",
     "start_time": "2024-12-02T13:55:26.372607Z"
    }
   },
   "cell_type": "code",
   "source": [
    "d = DaQSS()\n",
    "db = Database()\n",
    "db.identifier = db_connection\n",
    "db.values = [canada, india, usa]\n",
    "\n",
    "d.store_data_element(db.identifier, db.identifier, DATABASE)\n",
    "for table in db.values:\n",
    "    d.store_data_element(db.identifier + \"/\" + table.identifier, table.identifier, TABLE, db.identifier)\n"
   ],
   "id": "376739eddebe6827",
   "outputs": [
    {
     "name": "stderr",
     "output_type": "stream",
     "text": [
      "WARNING:root:The data element with the global_identifier \"sqlite:///../demo_data/product_information.sqlite\" cannot be stored, since an data element with the same global_identifier already exists.\n",
      "WARNING:root:The data element with the global_identifier \"sqlite:///../demo_data/product_information.sqlite/ca_products\" cannot be stored, since \n",
      " - an data element with the same global_identifier already exists, or\n",
      " - the provided parent data element global_identifier \"sqlite:///../demo_data/product_information.sqlite does not exist.\n",
      "WARNING:root:The data element with the global_identifier \"sqlite:///../demo_data/product_information.sqlite/in_products\" cannot be stored, since \n",
      " - an data element with the same global_identifier already exists, or\n",
      " - the provided parent data element global_identifier \"sqlite:///../demo_data/product_information.sqlite does not exist.\n",
      "WARNING:root:The data element with the global_identifier \"sqlite:///../demo_data/product_information.sqlite/us_products\" cannot be stored, since \n",
      " - an data element with the same global_identifier already exists, or\n",
      " - the provided parent data element global_identifier \"sqlite:///../demo_data/product_information.sqlite does not exist.\n"
     ]
    }
   ],
   "execution_count": 12
  },
  {
   "metadata": {},
   "cell_type": "markdown",
   "source": "3. Define and perform the constraint-based aggregation:",
   "id": "19bf7c0f535f4d06"
  },
  {
   "metadata": {
    "ExecuteTime": {
     "end_time": "2024-12-02T13:56:14.521190Z",
     "start_time": "2024-12-02T13:56:14.449063Z"
    }
   },
   "cell_type": "code",
   "source": [
    "# Define constraints\n",
    "price_is_greater_than_listprice_name = \"price is greater than list price\"\n",
    "price_is_greater_than_listprice_con = \"price > listPrice\"\n",
    "d.store_aggregation_constraint(price_is_greater_than_listprice_name,\n",
    "                               \"Is fulfilled if the value in a column \\\"price\\\" \" +\n",
    "                               \"is greater than the value in a column \\\"listPrice\\\".\",\n",
    "                               price_is_greater_than_listprice_con, ROW)\n",
    "else_con = \"else\"\n",
    "d.store_aggregation_constraint(else_con, \"Is fulfilled is no other constraint is fulfilled.\", else_con, ROW)\n",
    "\n",
    "# Define aggregation functions\n",
    "value_zero = \"0\"\n",
    "value_zero_name = \"Row is zero\"\n",
    "d.store_aggregation_function(\"Row is zero\", \"The aggregated value for a row will be zero\", value_zero, VALUE, ROW)\n",
    "value_one = \"1\"\n",
    "value_one_name = \"Row is one\"\n",
    "d.store_aggregation_function(\"Row is one\", \"The aggregated value for a row will be one\", value_one, VALUE, ROW)\n",
    "\n",
    "d.store_dq_dimension(\"Correctness\")\n",
    "\n",
    "agg_process_name = \"Product price correctness\"\n",
    "d.store_aggregation_process(agg_process_name,\n",
    "                            \"Check correctness of product prices in per row in the whole database.\",\n",
    "                            f\"SELECT value_level.* FROM data_element as value_level, data_element as row_level, \" +\n",
    "                            \"data_element as table_level \" +\n",
    "                            \"WHERE value_level.parent_data_element_global_identifier = row_level.data_element_global_identifier \" +\n",
    "                            \"AND row_level.parent_data_element_global_identifier = table_level.data_element_global_identifier \" +\n",
    "                            \"AND table_level.parent_data_element_global_identifier = '{db_connection}'\",\n",
    "                            [(price_is_greater_than_listprice_name, value_one_name), (else_con, value_zero_name)],\n",
    "                            [\"Correctness\"])\n"
   ],
   "id": "6edd56616ad0af47",
   "outputs": [],
   "execution_count": 14
  },
  {
   "metadata": {
    "ExecuteTime": {
     "end_time": "2024-12-02T13:56:41.704099Z",
     "start_time": "2024-12-02T13:56:15.932641Z"
    }
   },
   "cell_type": "code",
   "source": [
    "result_per_row: DataSource = aggregate(\n",
    "    db,\n",
    "    d.retrieve_aggregation_process_by_name_as_aggregation_specification(agg_process_name),\n",
    "    DataGranularity.ROW\n",
    ")"
   ],
   "id": "538cbe0a87eda1af",
   "outputs": [],
   "execution_count": 15
  },
  {
   "metadata": {},
   "cell_type": "markdown",
   "source": "4. Store the aggregation results in DaQSS:",
   "id": "92a86d5786198d7d"
  },
  {
   "metadata": {
    "ExecuteTime": {
     "end_time": "2024-12-02T13:56:45.696725Z",
     "start_time": "2024-12-02T13:56:44.101721Z"
    }
   },
   "cell_type": "code",
   "source": [
    "for table in result_per_row.values:\n",
    "    series = table.to_dataframe().iloc[:, 0]\n",
    "    d.store_dq_aggregation_results_from_series(\"Product price correctness\", ROW, db.identifier + \"/\" + table.identifier,\n",
    "                                               series)"
   ],
   "id": "a2550ff9322a4713",
   "outputs": [],
   "execution_count": 16
  },
  {
   "metadata": {},
   "cell_type": "code",
   "outputs": [],
   "execution_count": null,
   "source": "",
   "id": "9bb1a4e20fd45e10"
  }
 ],
 "metadata": {
  "kernelspec": {
   "display_name": "Python 3",
   "language": "python",
   "name": "python3"
  },
  "language_info": {
   "codemirror_mode": {
    "name": "ipython",
    "version": 2
   },
   "file_extension": ".py",
   "mimetype": "text/x-python",
   "name": "python",
   "nbconvert_exporter": "python",
   "pygments_lexer": "ipython2",
   "version": "2.7.6"
  }
 },
 "nbformat": 4,
 "nbformat_minor": 5
}
